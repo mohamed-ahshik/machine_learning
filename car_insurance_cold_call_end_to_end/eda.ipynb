{
 "cells": [
  {
   "cell_type": "markdown",
   "metadata": {},
   "source": [
    "## Import Libraries"
   ]
  },
  {
   "cell_type": "code",
   "execution_count": 25,
   "metadata": {},
   "outputs": [],
   "source": [
    "import pandas as pd\n",
    "import numpy as np\n",
    "import math \n",
    "import matplotlib.pyplot as plt\n",
    "import seaborn as sns"
   ]
  },
  {
   "cell_type": "code",
   "execution_count": 26,
   "metadata": {},
   "outputs": [],
   "source": [
    "data_path = r'C:\\Users\\moham\\Documents\\GitHub\\machine_learning\\car_insurance_cold_call_end_to_end\\dataset\\carInsurance_train.csv'"
   ]
  },
  {
   "cell_type": "code",
   "execution_count": 27,
   "metadata": {},
   "outputs": [],
   "source": [
    "call_insurance_df = pd.read_csv(data_path)"
   ]
  },
  {
   "cell_type": "code",
   "execution_count": 28,
   "metadata": {},
   "outputs": [
    {
     "data": {
      "text/html": [
       "<div>\n",
       "<style scoped>\n",
       "    .dataframe tbody tr th:only-of-type {\n",
       "        vertical-align: middle;\n",
       "    }\n",
       "\n",
       "    .dataframe tbody tr th {\n",
       "        vertical-align: top;\n",
       "    }\n",
       "\n",
       "    .dataframe thead th {\n",
       "        text-align: right;\n",
       "    }\n",
       "</style>\n",
       "<table border=\"1\" class=\"dataframe\">\n",
       "  <thead>\n",
       "    <tr style=\"text-align: right;\">\n",
       "      <th></th>\n",
       "      <th>Id</th>\n",
       "      <th>Age</th>\n",
       "      <th>Job</th>\n",
       "      <th>Marital</th>\n",
       "      <th>Education</th>\n",
       "      <th>Default</th>\n",
       "      <th>Balance</th>\n",
       "      <th>HHInsurance</th>\n",
       "      <th>CarLoan</th>\n",
       "      <th>Communication</th>\n",
       "      <th>LastContactDay</th>\n",
       "      <th>LastContactMonth</th>\n",
       "      <th>NoOfContacts</th>\n",
       "      <th>DaysPassed</th>\n",
       "      <th>PrevAttempts</th>\n",
       "      <th>Outcome</th>\n",
       "      <th>CallStart</th>\n",
       "      <th>CallEnd</th>\n",
       "      <th>CarInsurance</th>\n",
       "    </tr>\n",
       "  </thead>\n",
       "  <tbody>\n",
       "    <tr>\n",
       "      <th>0</th>\n",
       "      <td>1</td>\n",
       "      <td>32</td>\n",
       "      <td>management</td>\n",
       "      <td>single</td>\n",
       "      <td>tertiary</td>\n",
       "      <td>0</td>\n",
       "      <td>1218</td>\n",
       "      <td>1</td>\n",
       "      <td>0</td>\n",
       "      <td>telephone</td>\n",
       "      <td>28</td>\n",
       "      <td>jan</td>\n",
       "      <td>2</td>\n",
       "      <td>-1</td>\n",
       "      <td>0</td>\n",
       "      <td>NaN</td>\n",
       "      <td>13:45:20</td>\n",
       "      <td>13:46:30</td>\n",
       "      <td>0</td>\n",
       "    </tr>\n",
       "    <tr>\n",
       "      <th>1</th>\n",
       "      <td>2</td>\n",
       "      <td>32</td>\n",
       "      <td>blue-collar</td>\n",
       "      <td>married</td>\n",
       "      <td>primary</td>\n",
       "      <td>0</td>\n",
       "      <td>1156</td>\n",
       "      <td>1</td>\n",
       "      <td>0</td>\n",
       "      <td>NaN</td>\n",
       "      <td>26</td>\n",
       "      <td>may</td>\n",
       "      <td>5</td>\n",
       "      <td>-1</td>\n",
       "      <td>0</td>\n",
       "      <td>NaN</td>\n",
       "      <td>14:49:03</td>\n",
       "      <td>14:52:08</td>\n",
       "      <td>0</td>\n",
       "    </tr>\n",
       "    <tr>\n",
       "      <th>2</th>\n",
       "      <td>3</td>\n",
       "      <td>29</td>\n",
       "      <td>management</td>\n",
       "      <td>single</td>\n",
       "      <td>tertiary</td>\n",
       "      <td>0</td>\n",
       "      <td>637</td>\n",
       "      <td>1</td>\n",
       "      <td>0</td>\n",
       "      <td>cellular</td>\n",
       "      <td>3</td>\n",
       "      <td>jun</td>\n",
       "      <td>1</td>\n",
       "      <td>119</td>\n",
       "      <td>1</td>\n",
       "      <td>failure</td>\n",
       "      <td>16:30:24</td>\n",
       "      <td>16:36:04</td>\n",
       "      <td>1</td>\n",
       "    </tr>\n",
       "    <tr>\n",
       "      <th>3</th>\n",
       "      <td>4</td>\n",
       "      <td>25</td>\n",
       "      <td>student</td>\n",
       "      <td>single</td>\n",
       "      <td>primary</td>\n",
       "      <td>0</td>\n",
       "      <td>373</td>\n",
       "      <td>1</td>\n",
       "      <td>0</td>\n",
       "      <td>cellular</td>\n",
       "      <td>11</td>\n",
       "      <td>may</td>\n",
       "      <td>2</td>\n",
       "      <td>-1</td>\n",
       "      <td>0</td>\n",
       "      <td>NaN</td>\n",
       "      <td>12:06:43</td>\n",
       "      <td>12:20:22</td>\n",
       "      <td>1</td>\n",
       "    </tr>\n",
       "    <tr>\n",
       "      <th>4</th>\n",
       "      <td>5</td>\n",
       "      <td>30</td>\n",
       "      <td>management</td>\n",
       "      <td>married</td>\n",
       "      <td>tertiary</td>\n",
       "      <td>0</td>\n",
       "      <td>2694</td>\n",
       "      <td>0</td>\n",
       "      <td>0</td>\n",
       "      <td>cellular</td>\n",
       "      <td>3</td>\n",
       "      <td>jun</td>\n",
       "      <td>1</td>\n",
       "      <td>-1</td>\n",
       "      <td>0</td>\n",
       "      <td>NaN</td>\n",
       "      <td>14:35:44</td>\n",
       "      <td>14:38:56</td>\n",
       "      <td>0</td>\n",
       "    </tr>\n",
       "  </tbody>\n",
       "</table>\n",
       "</div>"
      ],
      "text/plain": [
       "   Id  Age          Job  Marital Education  Default  Balance  HHInsurance  \\\n",
       "0   1   32   management   single  tertiary        0     1218            1   \n",
       "1   2   32  blue-collar  married   primary        0     1156            1   \n",
       "2   3   29   management   single  tertiary        0      637            1   \n",
       "3   4   25      student   single   primary        0      373            1   \n",
       "4   5   30   management  married  tertiary        0     2694            0   \n",
       "\n",
       "   CarLoan Communication  LastContactDay LastContactMonth  NoOfContacts  \\\n",
       "0        0     telephone              28              jan             2   \n",
       "1        0           NaN              26              may             5   \n",
       "2        0      cellular               3              jun             1   \n",
       "3        0      cellular              11              may             2   \n",
       "4        0      cellular               3              jun             1   \n",
       "\n",
       "   DaysPassed  PrevAttempts  Outcome CallStart   CallEnd  CarInsurance  \n",
       "0          -1             0      NaN  13:45:20  13:46:30             0  \n",
       "1          -1             0      NaN  14:49:03  14:52:08             0  \n",
       "2         119             1  failure  16:30:24  16:36:04             1  \n",
       "3          -1             0      NaN  12:06:43  12:20:22             1  \n",
       "4          -1             0      NaN  14:35:44  14:38:56             0  "
      ]
     },
     "execution_count": 28,
     "metadata": {},
     "output_type": "execute_result"
    }
   ],
   "source": [
    "call_insurance_df.head()"
   ]
  },
  {
   "cell_type": "markdown",
   "metadata": {},
   "source": [
    "## Exploratory Data Analysis"
   ]
  },
  {
   "cell_type": "markdown",
   "metadata": {},
   "source": [
    "### 1. Structural Investigation \n",
    "**Check for** \n",
    "1. predictor and target\n",
    "2. Missing values\n",
    "3. Duplicated values\n",
    "3. Type of variable, Data type and Variable Category\n",
    "4. Categorical Variable Cardinality "
   ]
  },
  {
   "cell_type": "code",
   "execution_count": 29,
   "metadata": {},
   "outputs": [
    {
     "data": {
      "text/plain": [
       "(4000, 19)"
      ]
     },
     "execution_count": 29,
     "metadata": {},
     "output_type": "execute_result"
    }
   ],
   "source": [
    "call_insurance_df.shape"
   ]
  },
  {
   "cell_type": "code",
   "execution_count": 30,
   "metadata": {},
   "outputs": [
    {
     "name": "stdout",
     "output_type": "stream",
     "text": [
      "<class 'pandas.core.frame.DataFrame'>\n",
      "RangeIndex: 4000 entries, 0 to 3999\n",
      "Data columns (total 19 columns):\n",
      " #   Column            Non-Null Count  Dtype \n",
      "---  ------            --------------  ----- \n",
      " 0   Id                4000 non-null   int64 \n",
      " 1   Age               4000 non-null   int64 \n",
      " 2   Job               3981 non-null   object\n",
      " 3   Marital           4000 non-null   object\n",
      " 4   Education         3831 non-null   object\n",
      " 5   Default           4000 non-null   int64 \n",
      " 6   Balance           4000 non-null   int64 \n",
      " 7   HHInsurance       4000 non-null   int64 \n",
      " 8   CarLoan           4000 non-null   int64 \n",
      " 9   Communication     3098 non-null   object\n",
      " 10  LastContactDay    4000 non-null   int64 \n",
      " 11  LastContactMonth  4000 non-null   object\n",
      " 12  NoOfContacts      4000 non-null   int64 \n",
      " 13  DaysPassed        4000 non-null   int64 \n",
      " 14  PrevAttempts      4000 non-null   int64 \n",
      " 15  Outcome           958 non-null    object\n",
      " 16  CallStart         4000 non-null   object\n",
      " 17  CallEnd           4000 non-null   object\n",
      " 18  CarInsurance      4000 non-null   int64 \n",
      "dtypes: int64(11), object(8)\n",
      "memory usage: 593.9+ KB\n"
     ]
    }
   ],
   "source": [
    "call_insurance_df.info()"
   ]
  },
  {
   "cell_type": "markdown",
   "metadata": {},
   "source": [
    "**Info Observersations:**\n",
    "* There are 19 features in this dataset\n",
    "* There are some missing values in the features listed below :\n",
    "1. Job\n",
    "2. Education\n",
    "3. Communication\n",
    "4. Outcome\n"
   ]
  },
  {
   "cell_type": "code",
   "execution_count": 31,
   "metadata": {},
   "outputs": [
    {
     "data": {
      "text/plain": [
       "Id                     0\n",
       "Age                    0\n",
       "Job                   19\n",
       "Marital                0\n",
       "Education            169\n",
       "Default                0\n",
       "Balance                0\n",
       "HHInsurance            0\n",
       "CarLoan                0\n",
       "Communication        902\n",
       "LastContactDay         0\n",
       "LastContactMonth       0\n",
       "NoOfContacts           0\n",
       "DaysPassed             0\n",
       "PrevAttempts           0\n",
       "Outcome             3042\n",
       "CallStart              0\n",
       "CallEnd                0\n",
       "CarInsurance           0\n",
       "dtype: int64"
      ]
     },
     "execution_count": 31,
     "metadata": {},
     "output_type": "execute_result"
    }
   ],
   "source": [
    "# Check for missing values in each column\n",
    "call_insurance_df.isnull().sum()"
   ]
  },
  {
   "cell_type": "code",
   "execution_count": 32,
   "metadata": {},
   "outputs": [
    {
     "data": {
      "text/plain": [
       "Id                   0.000\n",
       "Age                  0.000\n",
       "Job                  0.475\n",
       "Marital              0.000\n",
       "Education            4.225\n",
       "Default              0.000\n",
       "Balance              0.000\n",
       "HHInsurance          0.000\n",
       "CarLoan              0.000\n",
       "Communication       22.550\n",
       "LastContactDay       0.000\n",
       "LastContactMonth     0.000\n",
       "NoOfContacts         0.000\n",
       "DaysPassed           0.000\n",
       "PrevAttempts         0.000\n",
       "Outcome             76.050\n",
       "CallStart            0.000\n",
       "CallEnd              0.000\n",
       "CarInsurance         0.000\n",
       "dtype: float64"
      ]
     },
     "execution_count": 32,
     "metadata": {},
     "output_type": "execute_result"
    }
   ],
   "source": [
    "# check for missing values in each column as a percentage of whole dataset\n",
    "(call_insurance_df.isnull().sum() / call_insurance_df.shape[0]) * 100"
   ]
  },
  {
   "cell_type": "markdown",
   "metadata": {},
   "source": [
    "**Missing values Observersations:**\n",
    "\n",
    "1. Job - 5 missing values\n",
    "2. Education - 47 missing values\n",
    "3. Communication - 221 missing values\n",
    "4. Outcome - 757 missing values\n"
   ]
  },
  {
   "cell_type": "code",
   "execution_count": 33,
   "metadata": {},
   "outputs": [
    {
     "data": {
      "text/plain": [
       "0"
      ]
     },
     "execution_count": 33,
     "metadata": {},
     "output_type": "execute_result"
    }
   ],
   "source": [
    "# Check for duplicates in the dataframe\n",
    "call_insurance_df.duplicated().sum()\n"
   ]
  },
  {
   "cell_type": "markdown",
   "metadata": {},
   "source": [
    "**Dulicates Observations**\n",
    "* There are no duplicated values"
   ]
  },
  {
   "cell_type": "code",
   "execution_count": 34,
   "metadata": {},
   "outputs": [
    {
     "name": "stdout",
     "output_type": "stream",
     "text": [
      "Id\n",
      "1       1\n",
      "2672    1\n",
      "2659    1\n",
      "2660    1\n",
      "2661    1\n",
      "       ..\n",
      "1339    1\n",
      "1340    1\n",
      "1341    1\n",
      "1342    1\n",
      "4000    1\n",
      "Name: count, Length: 4000, dtype: int64\n",
      "Age\n",
      "31    182\n",
      "32    177\n",
      "33    164\n",
      "34    163\n",
      "35    157\n",
      "     ... \n",
      "86      2\n",
      "87      1\n",
      "84      1\n",
      "92      1\n",
      "95      1\n",
      "Name: count, Length: 70, dtype: int64\n",
      "Job\n",
      "management       893\n",
      "blue-collar      759\n",
      "technician       660\n",
      "admin.           459\n",
      "services         330\n",
      "retired          249\n",
      "self-employed    140\n",
      "student          131\n",
      "unemployed       130\n",
      "entrepreneur     121\n",
      "housemaid        109\n",
      "Name: count, dtype: int64\n",
      "Marital\n",
      "married     2304\n",
      "single      1213\n",
      "divorced     483\n",
      "Name: count, dtype: int64\n",
      "Education\n",
      "secondary    1988\n",
      "tertiary     1282\n",
      "primary       561\n",
      "Name: count, dtype: int64\n",
      "Default\n",
      "0    3942\n",
      "1      58\n",
      "Name: count, dtype: int64\n",
      "Balance\n",
      " 0       309\n",
      " 1        14\n",
      " 2        13\n",
      " 3        13\n",
      " 5        11\n",
      "        ... \n",
      " 2387      1\n",
      " 2763      1\n",
      "-59        1\n",
      " 827       1\n",
      "-400       1\n",
      "Name: count, Length: 2178, dtype: int64\n",
      "HHInsurance\n",
      "0    2029\n",
      "1    1971\n",
      "Name: count, dtype: int64\n",
      "CarLoan\n",
      "0    3468\n",
      "1     532\n",
      "Name: count, dtype: int64\n",
      "Communication\n",
      "cellular     2831\n",
      "telephone     267\n",
      "Name: count, dtype: int64\n",
      "LastContactDay\n",
      "18    203\n",
      "20    196\n",
      "13    171\n",
      "30    167\n",
      "15    165\n",
      "17    163\n",
      "19    158\n",
      "8     158\n",
      "7     157\n",
      "21    156\n",
      "5     152\n",
      "12    150\n",
      "6     145\n",
      "29    142\n",
      "2     138\n",
      "4     136\n",
      "28    136\n",
      "11    135\n",
      "9     129\n",
      "14    127\n",
      "16    125\n",
      "27    102\n",
      "26     98\n",
      "25     94\n",
      "3      93\n",
      "23     89\n",
      "22     88\n",
      "10     72\n",
      "24     54\n",
      "31     52\n",
      "1      49\n",
      "Name: count, dtype: int64\n",
      "LastContactMonth\n",
      "may    1049\n",
      "jul     573\n",
      "aug     536\n",
      "jun     454\n",
      "nov     347\n",
      "apr     306\n",
      "feb     262\n",
      "jan     134\n",
      "oct     118\n",
      "sep     101\n",
      "mar      79\n",
      "dec      41\n",
      "Name: count, dtype: int64\n",
      "NoOfContacts\n",
      "1     1685\n",
      "2     1085\n",
      "3      516\n",
      "4      237\n",
      "5      166\n",
      "6       88\n",
      "7       49\n",
      "8       41\n",
      "9       20\n",
      "10      18\n",
      "11      15\n",
      "17      11\n",
      "12      11\n",
      "13       8\n",
      "14       7\n",
      "25       4\n",
      "20       4\n",
      "21       4\n",
      "22       3\n",
      "23       3\n",
      "15       3\n",
      "19       3\n",
      "16       3\n",
      "24       3\n",
      "18       3\n",
      "43       1\n",
      "41       1\n",
      "30       1\n",
      "38       1\n",
      "28       1\n",
      "29       1\n",
      "32       1\n",
      "26       1\n",
      "34       1\n",
      "27       1\n",
      "Name: count, dtype: int64\n",
      "DaysPassed\n",
      "-1      3042\n",
      " 92       38\n",
      " 182      33\n",
      " 183      24\n",
      " 91       24\n",
      "        ... \n",
      " 212       1\n",
      " 226       1\n",
      " 76        1\n",
      " 388       1\n",
      " 40        1\n",
      "Name: count, Length: 330, dtype: int64\n",
      "PrevAttempts\n",
      "0     3042\n",
      "1      335\n",
      "2      251\n",
      "3      125\n",
      "4       79\n",
      "5       60\n",
      "6       25\n",
      "7       21\n",
      "8       18\n",
      "10      10\n",
      "9        9\n",
      "12       5\n",
      "14       5\n",
      "13       4\n",
      "19       4\n",
      "11       3\n",
      "30       1\n",
      "23       1\n",
      "18       1\n",
      "58       1\n",
      "Name: count, dtype: int64\n",
      "Outcome\n",
      "failure    437\n",
      "success    326\n",
      "other      195\n",
      "Name: count, dtype: int64\n",
      "CallStart\n",
      "17:11:04    3\n",
      "13:54:34    3\n",
      "17:02:39    3\n",
      "11:48:25    3\n",
      "10:42:44    3\n",
      "           ..\n",
      "09:23:21    1\n",
      "12:08:39    1\n",
      "10:48:22    1\n",
      "15:22:15    1\n",
      "13:31:48    1\n",
      "Name: count, Length: 3777, dtype: int64\n",
      "CallEnd\n",
      "10:22:30    3\n",
      "11:27:46    3\n",
      "10:52:24    3\n",
      "16:58:22    2\n",
      "15:50:41    2\n",
      "           ..\n",
      "12:14:10    1\n",
      "10:53:23    1\n",
      "15:25:45    1\n",
      "13:45:49    1\n",
      "13:36:22    1\n",
      "Name: count, Length: 3764, dtype: int64\n",
      "CarInsurance\n",
      "0    2396\n",
      "1    1604\n",
      "Name: count, dtype: int64\n"
     ]
    }
   ],
   "source": [
    "# Check for unique values in each column\n",
    "call_column_list = call_insurance_df.columns\n",
    "for column_name in call_column_list:\n",
    "    print(call_insurance_df[column_name].value_counts())"
   ]
  },
  {
   "cell_type": "markdown",
   "metadata": {},
   "source": [
    "**Feature Observation**\n",
    "1. ID - Numerical \n",
    "2. Age - Numerical(Discrete)\n",
    "3. Job - Character , Categorical \n",
    "4. Martial - Character, Categorical \n",
    "5. Education - Character, Categorical \n",
    "6. Default - Numerical (Discrete), Categorical \n",
    "7. Balance - Numerical (Discrete)\n",
    "8. HHInsurance - Numerical (Discrete), Categorical \n",
    "9. CarLoan - Numerical (Discrete), Categorical\n",
    "10. Communication - Character, Categorical \n",
    "11. LastContactDay - Numerical (Discrete)\n",
    "12. LastContactMonth - Character , Categorical \n",
    "13. NoOfContacts - Numerical(Discrete)\n",
    "14. DaysPassed - Numerical(Discrete)\n",
    "15. PrevAttempts - Numerical(Discrete)\n",
    "16. Outcome - Character , Categorical \n",
    "17. CallStart - Numerical (Temporal)\n",
    "18. CallEnd - Numerical (Temporal)\n",
    "19. CarInsurance -  Numerical(Discrete), Categorical , Target Label"
   ]
  },
  {
   "cell_type": "code",
   "execution_count": 35,
   "metadata": {},
   "outputs": [
    {
     "data": {
      "text/html": [
       "<div>\n",
       "<style scoped>\n",
       "    .dataframe tbody tr th:only-of-type {\n",
       "        vertical-align: middle;\n",
       "    }\n",
       "\n",
       "    .dataframe tbody tr th {\n",
       "        vertical-align: top;\n",
       "    }\n",
       "\n",
       "    .dataframe thead th {\n",
       "        text-align: right;\n",
       "    }\n",
       "</style>\n",
       "<table border=\"1\" class=\"dataframe\">\n",
       "  <thead>\n",
       "    <tr style=\"text-align: right;\">\n",
       "      <th></th>\n",
       "      <th>Id</th>\n",
       "      <th>Age</th>\n",
       "      <th>Default</th>\n",
       "      <th>Balance</th>\n",
       "      <th>HHInsurance</th>\n",
       "      <th>CarLoan</th>\n",
       "      <th>LastContactDay</th>\n",
       "      <th>NoOfContacts</th>\n",
       "      <th>DaysPassed</th>\n",
       "      <th>PrevAttempts</th>\n",
       "      <th>CarInsurance</th>\n",
       "    </tr>\n",
       "  </thead>\n",
       "  <tbody>\n",
       "    <tr>\n",
       "      <th>count</th>\n",
       "      <td>4000.000000</td>\n",
       "      <td>4000.000000</td>\n",
       "      <td>4000.000000</td>\n",
       "      <td>4000.000000</td>\n",
       "      <td>4000.00000</td>\n",
       "      <td>4000.000000</td>\n",
       "      <td>4000.000000</td>\n",
       "      <td>4000.000000</td>\n",
       "      <td>4000.000000</td>\n",
       "      <td>4000.000000</td>\n",
       "      <td>4000.000000</td>\n",
       "    </tr>\n",
       "    <tr>\n",
       "      <th>mean</th>\n",
       "      <td>2000.500000</td>\n",
       "      <td>41.214750</td>\n",
       "      <td>0.014500</td>\n",
       "      <td>1532.937250</td>\n",
       "      <td>0.49275</td>\n",
       "      <td>0.133000</td>\n",
       "      <td>15.721250</td>\n",
       "      <td>2.607250</td>\n",
       "      <td>48.706500</td>\n",
       "      <td>0.717500</td>\n",
       "      <td>0.401000</td>\n",
       "    </tr>\n",
       "    <tr>\n",
       "      <th>std</th>\n",
       "      <td>1154.844867</td>\n",
       "      <td>11.550194</td>\n",
       "      <td>0.119555</td>\n",
       "      <td>3511.452489</td>\n",
       "      <td>0.50001</td>\n",
       "      <td>0.339617</td>\n",
       "      <td>8.425307</td>\n",
       "      <td>3.064204</td>\n",
       "      <td>106.685385</td>\n",
       "      <td>2.078647</td>\n",
       "      <td>0.490162</td>\n",
       "    </tr>\n",
       "    <tr>\n",
       "      <th>min</th>\n",
       "      <td>1.000000</td>\n",
       "      <td>18.000000</td>\n",
       "      <td>0.000000</td>\n",
       "      <td>-3058.000000</td>\n",
       "      <td>0.00000</td>\n",
       "      <td>0.000000</td>\n",
       "      <td>1.000000</td>\n",
       "      <td>1.000000</td>\n",
       "      <td>-1.000000</td>\n",
       "      <td>0.000000</td>\n",
       "      <td>0.000000</td>\n",
       "    </tr>\n",
       "    <tr>\n",
       "      <th>25%</th>\n",
       "      <td>1000.750000</td>\n",
       "      <td>32.000000</td>\n",
       "      <td>0.000000</td>\n",
       "      <td>111.000000</td>\n",
       "      <td>0.00000</td>\n",
       "      <td>0.000000</td>\n",
       "      <td>8.000000</td>\n",
       "      <td>1.000000</td>\n",
       "      <td>-1.000000</td>\n",
       "      <td>0.000000</td>\n",
       "      <td>0.000000</td>\n",
       "    </tr>\n",
       "    <tr>\n",
       "      <th>50%</th>\n",
       "      <td>2000.500000</td>\n",
       "      <td>39.000000</td>\n",
       "      <td>0.000000</td>\n",
       "      <td>551.500000</td>\n",
       "      <td>0.00000</td>\n",
       "      <td>0.000000</td>\n",
       "      <td>16.000000</td>\n",
       "      <td>2.000000</td>\n",
       "      <td>-1.000000</td>\n",
       "      <td>0.000000</td>\n",
       "      <td>0.000000</td>\n",
       "    </tr>\n",
       "    <tr>\n",
       "      <th>75%</th>\n",
       "      <td>3000.250000</td>\n",
       "      <td>49.000000</td>\n",
       "      <td>0.000000</td>\n",
       "      <td>1619.000000</td>\n",
       "      <td>1.00000</td>\n",
       "      <td>0.000000</td>\n",
       "      <td>22.000000</td>\n",
       "      <td>3.000000</td>\n",
       "      <td>-1.000000</td>\n",
       "      <td>0.000000</td>\n",
       "      <td>1.000000</td>\n",
       "    </tr>\n",
       "    <tr>\n",
       "      <th>max</th>\n",
       "      <td>4000.000000</td>\n",
       "      <td>95.000000</td>\n",
       "      <td>1.000000</td>\n",
       "      <td>98417.000000</td>\n",
       "      <td>1.00000</td>\n",
       "      <td>1.000000</td>\n",
       "      <td>31.000000</td>\n",
       "      <td>43.000000</td>\n",
       "      <td>854.000000</td>\n",
       "      <td>58.000000</td>\n",
       "      <td>1.000000</td>\n",
       "    </tr>\n",
       "  </tbody>\n",
       "</table>\n",
       "</div>"
      ],
      "text/plain": [
       "                Id          Age      Default       Balance  HHInsurance  \\\n",
       "count  4000.000000  4000.000000  4000.000000   4000.000000   4000.00000   \n",
       "mean   2000.500000    41.214750     0.014500   1532.937250      0.49275   \n",
       "std    1154.844867    11.550194     0.119555   3511.452489      0.50001   \n",
       "min       1.000000    18.000000     0.000000  -3058.000000      0.00000   \n",
       "25%    1000.750000    32.000000     0.000000    111.000000      0.00000   \n",
       "50%    2000.500000    39.000000     0.000000    551.500000      0.00000   \n",
       "75%    3000.250000    49.000000     0.000000   1619.000000      1.00000   \n",
       "max    4000.000000    95.000000     1.000000  98417.000000      1.00000   \n",
       "\n",
       "           CarLoan  LastContactDay  NoOfContacts   DaysPassed  PrevAttempts  \\\n",
       "count  4000.000000     4000.000000   4000.000000  4000.000000   4000.000000   \n",
       "mean      0.133000       15.721250      2.607250    48.706500      0.717500   \n",
       "std       0.339617        8.425307      3.064204   106.685385      2.078647   \n",
       "min       0.000000        1.000000      1.000000    -1.000000      0.000000   \n",
       "25%       0.000000        8.000000      1.000000    -1.000000      0.000000   \n",
       "50%       0.000000       16.000000      2.000000    -1.000000      0.000000   \n",
       "75%       0.000000       22.000000      3.000000    -1.000000      0.000000   \n",
       "max       1.000000       31.000000     43.000000   854.000000     58.000000   \n",
       "\n",
       "       CarInsurance  \n",
       "count   4000.000000  \n",
       "mean       0.401000  \n",
       "std        0.490162  \n",
       "min        0.000000  \n",
       "25%        0.000000  \n",
       "50%        0.000000  \n",
       "75%        1.000000  \n",
       "max        1.000000  "
      ]
     },
     "execution_count": 35,
     "metadata": {},
     "output_type": "execute_result"
    }
   ],
   "source": [
    "#check the dataframe basic numerical statistics\n",
    "call_insurance_df.describe()"
   ]
  },
  {
   "cell_type": "markdown",
   "metadata": {},
   "source": [
    "**Describe Observation**\n",
    "1. Balance has negative values - could mean that they owe money or there is entry error.\n",
    "2. DaysPassed has -1 - which means that there are clients which has not been contacted before.\n"
   ]
  },
  {
   "cell_type": "markdown",
   "metadata": {},
   "source": [
    "## Conclusion for Structural Investigation \n",
    "1. There are missing values\n",
    "2. There are no duplicated values\n",
    "3. Categorical features looks standarised \n",
    "4. There are timestamp which needs to be changed to datetime datatype\n",
    "4. Handle balance and DaysPassed feature"
   ]
  },
  {
   "cell_type": "code",
   "execution_count": 36,
   "metadata": {},
   "outputs": [
    {
     "name": "stderr",
     "output_type": "stream",
     "text": [
      "C:\\Users\\moham\\AppData\\Local\\Temp\\ipykernel_33564\\1842670530.py:2: UserWarning: Could not infer format, so each element will be parsed individually, falling back to `dateutil`. To ensure parsing is consistent and as-expected, please specify a format.\n",
      "  call_insurance_df['CallStart'] = pd.to_datetime(call_insurance_df['CallStart'])\n"
     ]
    },
    {
     "name": "stderr",
     "output_type": "stream",
     "text": [
      "C:\\Users\\moham\\AppData\\Local\\Temp\\ipykernel_33564\\1842670530.py:3: UserWarning: Could not infer format, so each element will be parsed individually, falling back to `dateutil`. To ensure parsing is consistent and as-expected, please specify a format.\n",
      "  call_insurance_df['CallEnd'] = pd.to_datetime(call_insurance_df['CallEnd'])\n"
     ]
    }
   ],
   "source": [
    "# Change time to datetime datatype\n",
    "call_insurance_df['CallStart'] = pd.to_datetime(call_insurance_df['CallStart'])\n",
    "call_insurance_df['CallEnd'] = pd.to_datetime(call_insurance_df['CallEnd'])"
   ]
  },
  {
   "cell_type": "code",
   "execution_count": 37,
   "metadata": {},
   "outputs": [
    {
     "data": {
      "text/html": [
       "<div>\n",
       "<style scoped>\n",
       "    .dataframe tbody tr th:only-of-type {\n",
       "        vertical-align: middle;\n",
       "    }\n",
       "\n",
       "    .dataframe tbody tr th {\n",
       "        vertical-align: top;\n",
       "    }\n",
       "\n",
       "    .dataframe thead th {\n",
       "        text-align: right;\n",
       "    }\n",
       "</style>\n",
       "<table border=\"1\" class=\"dataframe\">\n",
       "  <thead>\n",
       "    <tr style=\"text-align: right;\">\n",
       "      <th></th>\n",
       "      <th>Id</th>\n",
       "      <th>Age</th>\n",
       "      <th>Job</th>\n",
       "      <th>Marital</th>\n",
       "      <th>Education</th>\n",
       "      <th>Default</th>\n",
       "      <th>Balance</th>\n",
       "      <th>HHInsurance</th>\n",
       "      <th>CarLoan</th>\n",
       "      <th>Communication</th>\n",
       "      <th>LastContactDay</th>\n",
       "      <th>LastContactMonth</th>\n",
       "      <th>NoOfContacts</th>\n",
       "      <th>DaysPassed</th>\n",
       "      <th>PrevAttempts</th>\n",
       "      <th>Outcome</th>\n",
       "      <th>CallStart</th>\n",
       "      <th>CallEnd</th>\n",
       "      <th>CarInsurance</th>\n",
       "    </tr>\n",
       "  </thead>\n",
       "  <tbody>\n",
       "    <tr>\n",
       "      <th>0</th>\n",
       "      <td>1</td>\n",
       "      <td>32</td>\n",
       "      <td>management</td>\n",
       "      <td>single</td>\n",
       "      <td>tertiary</td>\n",
       "      <td>0</td>\n",
       "      <td>1218</td>\n",
       "      <td>1</td>\n",
       "      <td>0</td>\n",
       "      <td>telephone</td>\n",
       "      <td>28</td>\n",
       "      <td>jan</td>\n",
       "      <td>2</td>\n",
       "      <td>-1</td>\n",
       "      <td>0</td>\n",
       "      <td>NaN</td>\n",
       "      <td>2024-06-10 13:45:20</td>\n",
       "      <td>2024-06-10 13:46:30</td>\n",
       "      <td>0</td>\n",
       "    </tr>\n",
       "    <tr>\n",
       "      <th>1</th>\n",
       "      <td>2</td>\n",
       "      <td>32</td>\n",
       "      <td>blue-collar</td>\n",
       "      <td>married</td>\n",
       "      <td>primary</td>\n",
       "      <td>0</td>\n",
       "      <td>1156</td>\n",
       "      <td>1</td>\n",
       "      <td>0</td>\n",
       "      <td>NaN</td>\n",
       "      <td>26</td>\n",
       "      <td>may</td>\n",
       "      <td>5</td>\n",
       "      <td>-1</td>\n",
       "      <td>0</td>\n",
       "      <td>NaN</td>\n",
       "      <td>2024-06-10 14:49:03</td>\n",
       "      <td>2024-06-10 14:52:08</td>\n",
       "      <td>0</td>\n",
       "    </tr>\n",
       "    <tr>\n",
       "      <th>2</th>\n",
       "      <td>3</td>\n",
       "      <td>29</td>\n",
       "      <td>management</td>\n",
       "      <td>single</td>\n",
       "      <td>tertiary</td>\n",
       "      <td>0</td>\n",
       "      <td>637</td>\n",
       "      <td>1</td>\n",
       "      <td>0</td>\n",
       "      <td>cellular</td>\n",
       "      <td>3</td>\n",
       "      <td>jun</td>\n",
       "      <td>1</td>\n",
       "      <td>119</td>\n",
       "      <td>1</td>\n",
       "      <td>failure</td>\n",
       "      <td>2024-06-10 16:30:24</td>\n",
       "      <td>2024-06-10 16:36:04</td>\n",
       "      <td>1</td>\n",
       "    </tr>\n",
       "    <tr>\n",
       "      <th>3</th>\n",
       "      <td>4</td>\n",
       "      <td>25</td>\n",
       "      <td>student</td>\n",
       "      <td>single</td>\n",
       "      <td>primary</td>\n",
       "      <td>0</td>\n",
       "      <td>373</td>\n",
       "      <td>1</td>\n",
       "      <td>0</td>\n",
       "      <td>cellular</td>\n",
       "      <td>11</td>\n",
       "      <td>may</td>\n",
       "      <td>2</td>\n",
       "      <td>-1</td>\n",
       "      <td>0</td>\n",
       "      <td>NaN</td>\n",
       "      <td>2024-06-10 12:06:43</td>\n",
       "      <td>2024-06-10 12:20:22</td>\n",
       "      <td>1</td>\n",
       "    </tr>\n",
       "    <tr>\n",
       "      <th>4</th>\n",
       "      <td>5</td>\n",
       "      <td>30</td>\n",
       "      <td>management</td>\n",
       "      <td>married</td>\n",
       "      <td>tertiary</td>\n",
       "      <td>0</td>\n",
       "      <td>2694</td>\n",
       "      <td>0</td>\n",
       "      <td>0</td>\n",
       "      <td>cellular</td>\n",
       "      <td>3</td>\n",
       "      <td>jun</td>\n",
       "      <td>1</td>\n",
       "      <td>-1</td>\n",
       "      <td>0</td>\n",
       "      <td>NaN</td>\n",
       "      <td>2024-06-10 14:35:44</td>\n",
       "      <td>2024-06-10 14:38:56</td>\n",
       "      <td>0</td>\n",
       "    </tr>\n",
       "  </tbody>\n",
       "</table>\n",
       "</div>"
      ],
      "text/plain": [
       "   Id  Age          Job  Marital Education  Default  Balance  HHInsurance  \\\n",
       "0   1   32   management   single  tertiary        0     1218            1   \n",
       "1   2   32  blue-collar  married   primary        0     1156            1   \n",
       "2   3   29   management   single  tertiary        0      637            1   \n",
       "3   4   25      student   single   primary        0      373            1   \n",
       "4   5   30   management  married  tertiary        0     2694            0   \n",
       "\n",
       "   CarLoan Communication  LastContactDay LastContactMonth  NoOfContacts  \\\n",
       "0        0     telephone              28              jan             2   \n",
       "1        0           NaN              26              may             5   \n",
       "2        0      cellular               3              jun             1   \n",
       "3        0      cellular              11              may             2   \n",
       "4        0      cellular               3              jun             1   \n",
       "\n",
       "   DaysPassed  PrevAttempts  Outcome           CallStart             CallEnd  \\\n",
       "0          -1             0      NaN 2024-06-10 13:45:20 2024-06-10 13:46:30   \n",
       "1          -1             0      NaN 2024-06-10 14:49:03 2024-06-10 14:52:08   \n",
       "2         119             1  failure 2024-06-10 16:30:24 2024-06-10 16:36:04   \n",
       "3          -1             0      NaN 2024-06-10 12:06:43 2024-06-10 12:20:22   \n",
       "4          -1             0      NaN 2024-06-10 14:35:44 2024-06-10 14:38:56   \n",
       "\n",
       "   CarInsurance  \n",
       "0             0  \n",
       "1             0  \n",
       "2             1  \n",
       "3             1  \n",
       "4             0  "
      ]
     },
     "execution_count": 37,
     "metadata": {},
     "output_type": "execute_result"
    }
   ],
   "source": [
    "call_insurance_df.head()"
   ]
  },
  {
   "cell_type": "code",
   "execution_count": 38,
   "metadata": {},
   "outputs": [],
   "source": [
    "#Extract all the hour, minute and second from the CallEnd time column\n",
    "call_insurance_df['CallEnd_hour'] = call_insurance_df['CallEnd'].dt.hour\n",
    "call_insurance_df['CallEnd_minute'] = call_insurance_df['CallEnd'].dt.minute\n",
    "call_insurance_df['CallEnd_second'] = call_insurance_df['CallEnd'].dt.second\n"
   ]
  },
  {
   "cell_type": "code",
   "execution_count": 39,
   "metadata": {},
   "outputs": [],
   "source": [
    "#Extract all the hour, minute and second from the CallStart time column\n",
    "call_insurance_df['CallStart_hour'] = call_insurance_df['CallStart'].dt.hour\n",
    "call_insurance_df['CallStart_minute'] = call_insurance_df['CallStart'].dt.minute\n",
    "call_insurance_df['CallStart_second'] = call_insurance_df['CallStart'].dt.second"
   ]
  },
  {
   "cell_type": "code",
   "execution_count": 40,
   "metadata": {},
   "outputs": [],
   "source": [
    "call_insurance_timesplit_df = call_insurance_df.drop(['CallStart', 'CallEnd'], axis=1).copy()"
   ]
  },
  {
   "cell_type": "code",
   "execution_count": 41,
   "metadata": {},
   "outputs": [
    {
     "data": {
      "text/html": [
       "<div>\n",
       "<style scoped>\n",
       "    .dataframe tbody tr th:only-of-type {\n",
       "        vertical-align: middle;\n",
       "    }\n",
       "\n",
       "    .dataframe tbody tr th {\n",
       "        vertical-align: top;\n",
       "    }\n",
       "\n",
       "    .dataframe thead th {\n",
       "        text-align: right;\n",
       "    }\n",
       "</style>\n",
       "<table border=\"1\" class=\"dataframe\">\n",
       "  <thead>\n",
       "    <tr style=\"text-align: right;\">\n",
       "      <th></th>\n",
       "      <th>Id</th>\n",
       "      <th>Age</th>\n",
       "      <th>Job</th>\n",
       "      <th>Marital</th>\n",
       "      <th>Education</th>\n",
       "      <th>Default</th>\n",
       "      <th>Balance</th>\n",
       "      <th>HHInsurance</th>\n",
       "      <th>CarLoan</th>\n",
       "      <th>Communication</th>\n",
       "      <th>...</th>\n",
       "      <th>DaysPassed</th>\n",
       "      <th>PrevAttempts</th>\n",
       "      <th>Outcome</th>\n",
       "      <th>CarInsurance</th>\n",
       "      <th>CallEnd_hour</th>\n",
       "      <th>CallEnd_minute</th>\n",
       "      <th>CallEnd_second</th>\n",
       "      <th>CallStart_hour</th>\n",
       "      <th>CallStart_minute</th>\n",
       "      <th>CallStart_second</th>\n",
       "    </tr>\n",
       "  </thead>\n",
       "  <tbody>\n",
       "    <tr>\n",
       "      <th>0</th>\n",
       "      <td>1</td>\n",
       "      <td>32</td>\n",
       "      <td>management</td>\n",
       "      <td>single</td>\n",
       "      <td>tertiary</td>\n",
       "      <td>0</td>\n",
       "      <td>1218</td>\n",
       "      <td>1</td>\n",
       "      <td>0</td>\n",
       "      <td>telephone</td>\n",
       "      <td>...</td>\n",
       "      <td>-1</td>\n",
       "      <td>0</td>\n",
       "      <td>NaN</td>\n",
       "      <td>0</td>\n",
       "      <td>13</td>\n",
       "      <td>46</td>\n",
       "      <td>30</td>\n",
       "      <td>13</td>\n",
       "      <td>45</td>\n",
       "      <td>20</td>\n",
       "    </tr>\n",
       "    <tr>\n",
       "      <th>1</th>\n",
       "      <td>2</td>\n",
       "      <td>32</td>\n",
       "      <td>blue-collar</td>\n",
       "      <td>married</td>\n",
       "      <td>primary</td>\n",
       "      <td>0</td>\n",
       "      <td>1156</td>\n",
       "      <td>1</td>\n",
       "      <td>0</td>\n",
       "      <td>NaN</td>\n",
       "      <td>...</td>\n",
       "      <td>-1</td>\n",
       "      <td>0</td>\n",
       "      <td>NaN</td>\n",
       "      <td>0</td>\n",
       "      <td>14</td>\n",
       "      <td>52</td>\n",
       "      <td>8</td>\n",
       "      <td>14</td>\n",
       "      <td>49</td>\n",
       "      <td>3</td>\n",
       "    </tr>\n",
       "    <tr>\n",
       "      <th>2</th>\n",
       "      <td>3</td>\n",
       "      <td>29</td>\n",
       "      <td>management</td>\n",
       "      <td>single</td>\n",
       "      <td>tertiary</td>\n",
       "      <td>0</td>\n",
       "      <td>637</td>\n",
       "      <td>1</td>\n",
       "      <td>0</td>\n",
       "      <td>cellular</td>\n",
       "      <td>...</td>\n",
       "      <td>119</td>\n",
       "      <td>1</td>\n",
       "      <td>failure</td>\n",
       "      <td>1</td>\n",
       "      <td>16</td>\n",
       "      <td>36</td>\n",
       "      <td>4</td>\n",
       "      <td>16</td>\n",
       "      <td>30</td>\n",
       "      <td>24</td>\n",
       "    </tr>\n",
       "    <tr>\n",
       "      <th>3</th>\n",
       "      <td>4</td>\n",
       "      <td>25</td>\n",
       "      <td>student</td>\n",
       "      <td>single</td>\n",
       "      <td>primary</td>\n",
       "      <td>0</td>\n",
       "      <td>373</td>\n",
       "      <td>1</td>\n",
       "      <td>0</td>\n",
       "      <td>cellular</td>\n",
       "      <td>...</td>\n",
       "      <td>-1</td>\n",
       "      <td>0</td>\n",
       "      <td>NaN</td>\n",
       "      <td>1</td>\n",
       "      <td>12</td>\n",
       "      <td>20</td>\n",
       "      <td>22</td>\n",
       "      <td>12</td>\n",
       "      <td>6</td>\n",
       "      <td>43</td>\n",
       "    </tr>\n",
       "    <tr>\n",
       "      <th>4</th>\n",
       "      <td>5</td>\n",
       "      <td>30</td>\n",
       "      <td>management</td>\n",
       "      <td>married</td>\n",
       "      <td>tertiary</td>\n",
       "      <td>0</td>\n",
       "      <td>2694</td>\n",
       "      <td>0</td>\n",
       "      <td>0</td>\n",
       "      <td>cellular</td>\n",
       "      <td>...</td>\n",
       "      <td>-1</td>\n",
       "      <td>0</td>\n",
       "      <td>NaN</td>\n",
       "      <td>0</td>\n",
       "      <td>14</td>\n",
       "      <td>38</td>\n",
       "      <td>56</td>\n",
       "      <td>14</td>\n",
       "      <td>35</td>\n",
       "      <td>44</td>\n",
       "    </tr>\n",
       "  </tbody>\n",
       "</table>\n",
       "<p>5 rows × 23 columns</p>\n",
       "</div>"
      ],
      "text/plain": [
       "   Id  Age          Job  Marital Education  Default  Balance  HHInsurance  \\\n",
       "0   1   32   management   single  tertiary        0     1218            1   \n",
       "1   2   32  blue-collar  married   primary        0     1156            1   \n",
       "2   3   29   management   single  tertiary        0      637            1   \n",
       "3   4   25      student   single   primary        0      373            1   \n",
       "4   5   30   management  married  tertiary        0     2694            0   \n",
       "\n",
       "   CarLoan Communication  ...  DaysPassed PrevAttempts  Outcome  CarInsurance  \\\n",
       "0        0     telephone  ...          -1            0      NaN             0   \n",
       "1        0           NaN  ...          -1            0      NaN             0   \n",
       "2        0      cellular  ...         119            1  failure             1   \n",
       "3        0      cellular  ...          -1            0      NaN             1   \n",
       "4        0      cellular  ...          -1            0      NaN             0   \n",
       "\n",
       "   CallEnd_hour CallEnd_minute  CallEnd_second  CallStart_hour  \\\n",
       "0            13             46              30              13   \n",
       "1            14             52               8              14   \n",
       "2            16             36               4              16   \n",
       "3            12             20              22              12   \n",
       "4            14             38              56              14   \n",
       "\n",
       "   CallStart_minute  CallStart_second  \n",
       "0                45                20  \n",
       "1                49                 3  \n",
       "2                30                24  \n",
       "3                 6                43  \n",
       "4                35                44  \n",
       "\n",
       "[5 rows x 23 columns]"
      ]
     },
     "execution_count": 41,
     "metadata": {},
     "output_type": "execute_result"
    }
   ],
   "source": [
    "call_insurance_timesplit_df.head()"
   ]
  },
  {
   "cell_type": "markdown",
   "metadata": {},
   "source": [
    "## 2. Content Investigation, Quality Checks and Distribution checks"
   ]
  },
  {
   "cell_type": "code",
   "execution_count": 42,
   "metadata": {},
   "outputs": [
    {
     "data": {
      "text/plain": [
       "Index(['Id', 'Age', 'Job', 'Marital', 'Education', 'Default', 'Balance',\n",
       "       'HHInsurance', 'CarLoan', 'Communication', 'LastContactDay',\n",
       "       'LastContactMonth', 'NoOfContacts', 'DaysPassed', 'PrevAttempts',\n",
       "       'Outcome', 'CarInsurance', 'CallEnd_hour', 'CallEnd_minute',\n",
       "       'CallEnd_second', 'CallStart_hour', 'CallStart_minute',\n",
       "       'CallStart_second'],\n",
       "      dtype='object')"
      ]
     },
     "execution_count": 42,
     "metadata": {},
     "output_type": "execute_result"
    }
   ],
   "source": [
    "call_insurance_column_list = call_insurance_timesplit_df.columns\n",
    "call_insurance_column_list"
   ]
  },
  {
   "cell_type": "code",
   "execution_count": 43,
   "metadata": {},
   "outputs": [
    {
     "name": "stdout",
     "output_type": "stream",
     "text": [
      "['Job', 'Marital', 'Education', 'Communication', 'LastContactMonth', 'Outcome']\n"
     ]
    }
   ],
   "source": [
    "#Get categorical features list \n",
    "cat_features_list =[feature for feature in call_insurance_column_list if call_insurance_timesplit_df[feature].dtypes == 'O']\n",
    "print(cat_features_list)\n",
    "\n"
   ]
  },
  {
   "cell_type": "code",
   "execution_count": 44,
   "metadata": {},
   "outputs": [
    {
     "name": "stdout",
     "output_type": "stream",
     "text": [
      "['Job', 'Marital', 'Education', 'Communication', 'LastContactMonth', 'Outcome', 'Default', 'HHInsurance', 'CarLoan', 'LastContactMonth', 'CarInsurance']\n"
     ]
    }
   ],
   "source": [
    "cat_binary  = ['Default', 'HHInsurance', 'CarLoan', 'LastContactMonth', 'CarInsurance']\n",
    "cat_features_list = cat_features_list + cat_binary\n",
    "print(cat_features_list)"
   ]
  },
  {
   "cell_type": "code",
   "execution_count": 45,
   "metadata": {},
   "outputs": [
    {
     "name": "stdout",
     "output_type": "stream",
     "text": [
      "['Id', 'Age', 'Default', 'Balance', 'HHInsurance', 'CarLoan', 'LastContactDay', 'NoOfContacts', 'DaysPassed', 'PrevAttempts', 'CarInsurance', 'CallEnd_hour', 'CallEnd_minute', 'CallEnd_second', 'CallStart_hour', 'CallStart_minute', 'CallStart_second']\n"
     ]
    }
   ],
   "source": [
    "#Get all the numerical featues\n",
    "numerical_features_list =[feature for feature in call_insurance_column_list if call_insurance_timesplit_df[feature].dtypes != 'O']\n",
    "print(numerical_features_list)\n",
    "\n"
   ]
  },
  {
   "cell_type": "code",
   "execution_count": 46,
   "metadata": {},
   "outputs": [
    {
     "name": "stdout",
     "output_type": "stream",
     "text": [
      "['Id', 'Age', 'Balance', 'LastContactDay', 'NoOfContacts', 'DaysPassed', 'PrevAttempts', 'CallEnd_hour', 'CallEnd_minute', 'CallEnd_second', 'CallStart_hour', 'CallStart_minute', 'CallStart_second']\n"
     ]
    }
   ],
   "source": [
    "continuous_features = [feature for feature in numerical_features_list if feature not in cat_features_list]\n",
    "print(continuous_features)"
   ]
  },
  {
   "cell_type": "code",
   "execution_count": 47,
   "metadata": {},
   "outputs": [],
   "source": [
    "# # plot histogram and boxplot for all continous features to check the distribution\n",
    "# for i, continous_features in enumerate(continuous_features):\n",
    "#     mean = call_insurance_timesplit_df[continous_features].mean()\n",
    "#     median = call_insurance_timesplit_df[continous_features].median() \n",
    "#     Mode = call_insurance_timesplit_df[continous_features].mode()\n",
    "#     min_val = call_insurance_timesplit_df[continous_features].min()\n",
    "#     max_val = call_insurance_timesplit_df[continous_features].max()\n",
    "    \n",
    "#     print(f'Mean: {mean}, Median: {median}, Mode: {Mode}, Min: {min_val}, Max: {max_val}')\n",
    "#     print(f'Skewness: {call_insurance_timesplit_df[continous_features].skew()}')\n",
    "#     print(f'Kurtosis: {call_insurance_timesplit_df[continous_features].kurt()}')\n",
    "#     print(f'Variance: {call_insurance_timesplit_df[continous_features].var()}')\n",
    "#     print(f'Standard Deviation: {call_insurance_timesplit_df[continous_features].std()}')\n",
    "#     print(f'Range: {max_val - min_val}')\n",
    "#     print(f'Interquartile Range: {call_insurance_timesplit_df[continous_features].quantile(0.75) - call_insurance_timesplit_df[continous_features].quantile(0.25)}')\n",
    "    \n",
    "#     fig, (ax1, ax2) = plt.subplots(1, 2, figsize=(20, 10))\n",
    "#     values_counts = call_insurance_timesplit_df[continous_features].value_counts().sum()\n",
    "#     fig.suptitle(f'Histogram Plot for {continous_features}')\n",
    "#     ax1.hist(call_insurance_timesplit_df[continous_features], bins=int(np.round(math.sqrt(values_counts))))\n",
    "#     ax2.boxplot(call_insurance_timesplit_df[continous_features])\n",
    "#     plt.show()"
   ]
  },
  {
   "cell_type": "code",
   "execution_count": 51,
   "metadata": {},
   "outputs": [
    {
     "data": {
      "image/png": "[encoded data removed]",
      "text/plain": [
       "<Figure size 1500x500 with 1 Axes>"
      ]
     },
     "metadata": {},
     "output_type": "display_data"
    },
    {
     "name": "stdout",
     "output_type": "stream",
     "text": [
      "Job\n",
      "management       893\n",
      "blue-collar      759\n",
      "technician       660\n",
      "admin.           459\n",
      "services         330\n",
      "retired          249\n",
      "self-employed    140\n",
      "student          131\n",
      "unemployed       130\n",
      "entrepreneur     121\n",
      "housemaid        109\n",
      "Name: count, dtype: int64\n",
      "3981\n"
     ]
    },
    {
     "data": {
      "image/png": "[encoded data removed]",
      "text/plain": [
       "<Figure size 1500x500 with 1 Axes>"
      ]
     },
     "metadata": {},
     "output_type": "display_data"
    },
    {
     "name": "stdout",
     "output_type": "stream",
     "text": [
      "Marital\n",
      "married     2304\n",
      "single      1213\n",
      "divorced     483\n",
      "Name: count, dtype: int64\n",
      "4000\n"
     ]
    },
    {
     "data": {
      "image/png": "[encoded data removed]",
      "text/plain": [
       "<Figure size 1500x500 with 1 Axes>"
      ]
     },
     "metadata": {},
     "output_type": "display_data"
    },
    {
     "name": "stdout",
     "output_type": "stream",
     "text": [
      "Education\n",
      "secondary    1988\n",
      "tertiary     1282\n",
      "primary       561\n",
      "Name: count, dtype: int64\n",
      "3831\n"
     ]
    },
    {
     "data": {
      "image/png": "[encoded data removed]",
      "text/plain": [
       "<Figure size 1500x500 with 1 Axes>"
      ]
     },
     "metadata": {},
     "output_type": "display_data"
    },
    {
     "name": "stdout",
     "output_type": "stream",
     "text": [
      "Communication\n",
      "cellular     2831\n",
      "telephone     267\n",
      "Name: count, dtype: int64\n",
      "3098\n"
     ]
    },
    {
     "data": {
      "image/png": "[encoded data removed]",
      "text/plain": [
       "<Figure size 1500x500 with 1 Axes>"
      ]
     },
     "metadata": {},
     "output_type": "display_data"
    },
    {
     "name": "stdout",
     "output_type": "stream",
     "text": [
      "LastContactMonth\n",
      "may    1049\n",
      "jul     573\n",
      "aug     536\n",
      "jun     454\n",
      "nov     347\n",
      "apr     306\n",
      "feb     262\n",
      "jan     134\n",
      "oct     118\n",
      "sep     101\n",
      "mar      79\n",
      "dec      41\n",
      "Name: count, dtype: int64\n",
      "4000\n"
     ]
    },
    {
     "data": {
      "image/png": "[encoded data removed]",
      "text/plain": [
       "<Figure size 1500x500 with 1 Axes>"
      ]
     },
     "metadata": {},
     "output_type": "display_data"
    },
    {
     "name": "stdout",
     "output_type": "stream",
     "text": [
      "Outcome\n",
      "failure    437\n",
      "success    326\n",
      "other      195\n",
      "Name: count, dtype: int64\n",
      "958\n"
     ]
    },
    {
     "data": {
      "image/png": "[encoded data removed]",
      "text/plain": [
       "<Figure size 1500x500 with 1 Axes>"
      ]
     },
     "metadata": {},
     "output_type": "display_data"
    },
    {
     "name": "stdout",
     "output_type": "stream",
     "text": [
      "Default\n",
      "0    3942\n",
      "1      58\n",
      "Name: count, dtype: int64\n",
      "4000\n"
     ]
    },
    {
     "data": {
      "image/png": "[encoded data removed]",
      "text/plain": [
       "<Figure size 1500x500 with 1 Axes>"
      ]
     },
     "metadata": {},
     "output_type": "display_data"
    },
    {
     "name": "stdout",
     "output_type": "stream",
     "text": [
      "HHInsurance\n",
      "0    2029\n",
      "1    1971\n",
      "Name: count, dtype: int64\n",
      "4000\n"
     ]
    },
    {
     "data": {
      "image/png": "[encoded data removed]",
      "text/plain": [
       "<Figure size 1500x500 with 1 Axes>"
      ]
     },
     "metadata": {},
     "output_type": "display_data"
    },
    {
     "name": "stdout",
     "output_type": "stream",
     "text": [
      "CarLoan\n",
      "0    3468\n",
      "1     532\n",
      "Name: count, dtype: int64\n",
      "4000\n"
     ]
    },
    {
     "data": {
      "image/png": "[encoded data removed]",
      "text/plain": [
       "<Figure size 1500x500 with 1 Axes>"
      ]
     },
     "metadata": {},
     "output_type": "display_data"
    },
    {
     "name": "stdout",
     "output_type": "stream",
     "text": [
      "LastContactMonth\n",
      "may    1049\n",
      "jul     573\n",
      "aug     536\n",
      "jun     454\n",
      "nov     347\n",
      "apr     306\n",
      "feb     262\n",
      "jan     134\n",
      "oct     118\n",
      "sep     101\n",
      "mar      79\n",
      "dec      41\n",
      "Name: count, dtype: int64\n",
      "4000\n"
     ]
    },
    {
     "data": {
      "image/png": "[encoded data removed]",
      "text/plain": [
       "<Figure size 1500x500 with 1 Axes>"
      ]
     },
     "metadata": {},
     "output_type": "display_data"
    },
    {
     "name": "stdout",
     "output_type": "stream",
     "text": [
      "CarInsurance\n",
      "0    2396\n",
      "1    1604\n",
      "Name: count, dtype: int64\n",
      "4000\n"
     ]
    }
   ],
   "source": [
    "# plot countplot for all categorical features\n",
    "for i, cat_columns in enumerate (cat_features_list):\n",
    "        plt.figure(figsize=(15, 5))\n",
    "        sns.countplot(x=cat_columns, data=call_insurance_timesplit_df)\n",
    "        plt.title(f'Count Plot for {cat_columns}')\n",
    "        plt.show()\n",
    "        \n",
    "        print(call_insurance_timesplit_df[cat_columns].value_counts())\n",
    "        print(call_insurance_timesplit_df[cat_columns].value_counts().sum())"
   ]
  },
  {
   "cell_type": "markdown",
   "metadata": {},
   "source": [
    "### Observation \n",
    "* Job (Most common jobs are)\n",
    "1. management \n",
    "2. blue-collar\n",
    "3. technician\n",
    "4. admin\n",
    "5. services\n",
    "6. retired\n",
    "\n",
    "* Marital  \n",
    "Most are married and single while some are divorced\n",
    "\n",
    "* Education  \n",
    "Most are secondary educated followed bu tertiary\n",
    "\n",
    "* Communication  \n",
    "Most use celluar \n",
    "\n",
    "* LastContactMonth  \n",
    "There are few month where most of the last contact month are \n",
    "1. may \n",
    "2. jun\n",
    "3. nov\n",
    "4. jul\n",
    "5. aug\n",
    "6. apr\n",
    "7. feb\n",
    "\n",
    "\n",
    "* Outcome  \n",
    "Failure and success rate looks to be quite similar \n",
    "\n",
    "* Default  \n",
    "Most tend not to default on payment \n",
    "\n",
    "* HHInsurance  \n",
    "House insured looks to be both equal\n",
    "\n",
    "* CarLoan  \n",
    "Most has no car loan\n",
    "\n"
   ]
  },
  {
   "cell_type": "markdown",
   "metadata": {},
   "source": []
  }
 ],
 "metadata": {
  "kernelspec": {
   "display_name": "car_insurance_env",
   "language": "python",
   "name": "python3"
  },
  "language_info": {
   "codemirror_mode": {
    "name": "ipython",
    "version": 3
   },
   "file_extension": ".py",
   "mimetype": "text/x-python",
   "name": "python",
   "nbconvert_exporter": "python",
   "pygments_lexer": "ipython3",
   "version": "3.12.3"
  }
 },
 "nbformat": 4,
 "nbformat_minor": 2
}
